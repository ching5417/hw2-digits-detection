{
 "cells": [
  {
   "cell_type": "code",
   "execution_count": 2,
   "metadata": {},
   "outputs": [
    {
     "name": "stdout",
     "output_type": "stream",
     "text": [
      "image bounding box data construction starting...\n",
      "finished image bounding box data construction...\n"
     ]
    }
   ],
   "source": [
    "# -*- coding: utf-8 -*-\n",
    "import numpy as np\n",
    "import cv2\n",
    "import os\n",
    "import pandas as pd\n",
    "import h5py\n",
    "\n",
    "def get_name(index, hdf5_data):\n",
    "    name = hdf5_data['/digitStruct/name']\n",
    "    return ''.join([chr(v[0]) for v in hdf5_data[name[index][0]].value])\n",
    "\n",
    "def get_bbox(index, hdf5_data):\n",
    "    attrs = {}\n",
    "    item = hdf5_data['digitStruct']['bbox'][index].item()\n",
    "    for key in ['label', 'left', 'top', 'width', 'height']:\n",
    "        attr = hdf5_data[item][key]\n",
    "        values = [hdf5_data[attr.value[i].item()].value[0][0]\n",
    "                  for i in range(len(attr))] if len(attr) > 1 else [attr.value[0][0]]\n",
    "        attrs[key] = values\n",
    "    return attrs\n",
    "def img_boundingbox_data_constructor(mat_file):\n",
    "    f = h5py.File(mat_file,'r') \n",
    "    all_rows = []\n",
    "    print('image bounding box data construction starting...')\n",
    "    bbox_df = pd.DataFrame([],columns=['height','img_name','label','left','top','width'])\n",
    "    for j in range(f['/digitStruct/bbox'].shape[0]):\n",
    "        img_name_ = get_name(j, f)\n",
    "        row_dict = get_bbox(j, f)\n",
    "        row_dict['img_name'] = img_name_\n",
    "        all_rows.append(row_dict)\n",
    "        bbox_df = pd.concat([bbox_df,pd.DataFrame.from_dict(row_dict,orient = 'columns')])\n",
    "    bbox_df['bottom'] = bbox_df['top']+bbox_df['height']\n",
    "    bbox_df['right'] = bbox_df['left']+bbox_df['width']\n",
    "    print('finished image bounding box data construction...')\n",
    "    return bbox_df\n",
    "\n",
    "df = img_boundingbox_data_constructor('./digitStruct.mat')"
   ]
  },
  {
   "cell_type": "code",
   "execution_count": 13,
   "metadata": {},
   "outputs": [
    {
     "name": "stdout",
     "output_type": "stream",
     "text": [
      "73258\n"
     ]
    }
   ],
   "source": [
    "# 26722\n",
    "# 6680\n",
    "count = 0\n",
    "write_line = ''\n",
    "img_path = ''\n",
    "for row in df.iterrows():\n",
    "    img_path = ''\n",
    "    if int(row[1]['img_name'].split('.')[0]) <= 26722:\n",
    "        img_path = './svhn/images/train/' + row[1]['img_name']\n",
    "        output_path = './svhn/labels/train/' + row[1]['img_name'].split('.')[0] + '.txt'\n",
    "    else:\n",
    "        img_path = './svhn/images/val/' + row[1]['img_name']\n",
    "        output_path = './svhn/labels/val/' + row[1]['img_name'].split('.')[0] + '.txt'\n",
    "    \n",
    "    img = cv2.imread(img_path)\n",
    "#     print(img.shape)\n",
    "    img_width = img.shape[1]\n",
    "    img_height = img.shape[0]\n",
    "    \n",
    "    if row[0] != 0:\n",
    "        write_line += '\\n'\n",
    "    if ((row[1]['left']+row[1]['right'])/2)/img_width > 1:\n",
    "        print('1: ', ((row[1]['left']+row[1]['right'])/2)/img_width)\n",
    "        print((row[1]['left']+row[1]['right'])/2)\n",
    "        print('img_width:', img_width)\n",
    "        print('img_height: ', img_height)\n",
    "        print(\"error\")\n",
    "        print('img_path', img_path)\n",
    "        print('name: ', row[1]['img_name'])\n",
    "        break;\n",
    "    if ((row[1]['top']+row[1]['bottom'])/2)/img_height > 1:\n",
    "        print('2: ', ((row[1]['top']+row[1]['bottom'])/2)/img_height)\n",
    "        print((row[1]['top']+row[1]['bottom'])/2)\n",
    "        print('img_width:', img_width)\n",
    "        print('img_height: ', img_height)\n",
    "        print(\"error\")\n",
    "        print('img_path', img_path)\n",
    "        print('name: ', row[1]['img_name'])\n",
    "        break;\n",
    "    if row[1]['width']/img_width > 1:\n",
    "        print('3: ',row[1]['width']/img_width)\n",
    "        print(row[1]['width'])\n",
    "        print('img_width:', img_width)\n",
    "        print('img_height: ', img_height)\n",
    "        print(\"error\")\n",
    "        print('img_path', img_path)\n",
    "        print('name: ', row[1]['img_name'])\n",
    "        break;\n",
    "    if row[1]['height']/img_height > 1 and row[1]['img_name'] != '12668.png':\n",
    "        print('4: ', row[1]['height']/img_height)\n",
    "        print(row[1]['height'])\n",
    "        print('img_width:', img_width)\n",
    "        print('img_height: ', img_height)\n",
    "        print(\"error\")\n",
    "        print('img_path', img_path)\n",
    "        print('name: ', row[1]['img_name'])\n",
    "        break;\n",
    "    write_line += str(int(row[1]['label']-1)) + ' '\n",
    "    write_line += str(((row[1]['left']+row[1]['right'])/2)/img_width) + ' '\n",
    "    write_line += str(((row[1]['top']+row[1]['bottom'])/2)/img_height) + ' '\n",
    "    write_line += str(row[1]['width']/img_width) + ' '\n",
    "    if row[1]['img_name'] == '12668.png':\n",
    "        write_line += str(img_height/img_height)\n",
    "    else:\n",
    "        write_line += str(row[1]['height']/img_height)\n",
    "\n",
    "    with open(output_path, 'a') as output_file:\n",
    "        output_file.write(write_line)\n",
    "    write_line = ''\n",
    "    count += 1\n",
    "\n",
    "print(count+1)"
   ]
  }
 ],
 "metadata": {
  "kernelspec": {
   "display_name": "Python 3",
   "language": "python",
   "name": "python3"
  },
  "language_info": {
   "codemirror_mode": {
    "name": "ipython",
    "version": 3
   },
   "file_extension": ".py",
   "mimetype": "text/x-python",
   "name": "python",
   "nbconvert_exporter": "python",
   "pygments_lexer": "ipython3",
   "version": "3.7.7"
  }
 },
 "nbformat": 4,
 "nbformat_minor": 4
}
